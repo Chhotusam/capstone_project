{
    "cells": [
        {
            "cell_type": "markdown",
            "metadata": {
                "collapsed": true
            },
            "source": "# Title : Restaurant recommender system in Bangalore"
        },
        {
            "cell_type": "markdown",
            "metadata": {},
            "source": "## Data requirements :\nTo find a solution to the questions and build a recommender model, we need data and lots of data. Data can answer question which are unimaginable and non answerable by humans because humans do not have the tendency to analyse such large dataset and produce analtics to find a solutions.\n\nLet's consider the base scenario :\n\nSuppose i want to find a restaurant, then logically, i need 3 things :\n1. Its geographical coordinates(latitide and longitude) to find our where exactly it is located.\n2. Population of the neighborhood where the restaurant is located.\n3. Average income of neighborhood to know how much is the restaurant worth."
        },
        {
            "cell_type": "markdown",
            "metadata": {},
            "source": "# Data collection :\n1. Collecting geographical coordinates is not difficult but after googling for more than 2 days, it was not available on open source data websites such as wikipedia, india gov website, census report websites etc. So i decided to use Google maps API to fetch latitude and longitude but google API has limited number of calls that i could make with my free account. So it would take around 15 - 20 days to fetch location of all the neighborhoods in bangalore. Initially i scrapped list of neighbor's using beautifulSoup4 from wikipedia.\n2. Population by neighborhood is again easy to find out given that its readily available. But incase of bangalore, it is again not the case. i was able to find population data for few cities.\n3. Income by neighborhood is again easy to find out given that its readily available. But incase of bangalore, it is again not the case. i was able to find Income data for main city.\n4. Use of foursquare is focused to fetch nearest venue locations so that we can use them to form a cluster. Foursquare api leverages the power of finding nearest venues in a radius(in my case : 500mts) and also corresponding coordinates,venue location and names. "
        },
        {
            "cell_type": "code",
            "execution_count": null,
            "metadata": {},
            "outputs": [],
            "source": ""
        }
    ],
    "metadata": {
        "kernelspec": {
            "display_name": "Python 3.6",
            "language": "python",
            "name": "python3"
        },
        "language_info": {
            "codemirror_mode": {
                "name": "ipython",
                "version": 3
            },
            "file_extension": ".py",
            "mimetype": "text/x-python",
            "name": "python",
            "nbconvert_exporter": "python",
            "pygments_lexer": "ipython3",
            "version": "3.6.9"
        }
    },
    "nbformat": 4,
    "nbformat_minor": 1
}